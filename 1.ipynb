{
  "nbformat": 4,
  "nbformat_minor": 0,
  "metadata": {
    "colab": {
      "provenance": []
    },
    "kernelspec": {
      "name": "python3",
      "display_name": "Python 3"
    },
    "language_info": {
      "name": "python"
    }
  },
  "cells": [
    {
      "cell_type": "code",
      "source": [
        "import numpy as np\n",
        "from sklearn.linear_model import LinearRegression\n",
        "\n",
        "# Generate the data\n",
        "np.random.seed(0)\n",
        "X = np.random.rand(100, 1) * 1000  # house area\n",
        "y = 100 * X + np.random.randn(100, 1) * 50000  # house price\n",
        "\n",
        "# Create a linear regression model\n",
        "model = LinearRegression()\n",
        "\n",
        "# Fit the model to the data\n",
        "model.fit(X, y)\n",
        "\n",
        "# Print the coefficients of the model\n",
        "print('Coefficients: ', model.coef_)\n",
        "\n",
        "# Predict the price of a house with an area of 1000 sq. ft.\n",
        "predicted_price = model.predict([[1000]])\n",
        "print('Predicted price for a 1000 sq. ft. house: ', predicted_price[0][0])\n"
      ],
      "metadata": {
        "colab": {
          "base_uri": "https://localhost:8080/"
        },
        "id": "h5xUxdkl4I4N",
        "outputId": "f45a1114-4a85-40db-cfd1-a417c27ea335"
      },
      "execution_count": null,
      "outputs": [
        {
          "output_type": "stream",
          "name": "stdout",
          "text": [
            "Coefficients:  [[96.84675107]]\n",
            "Predicted price for a 1000 sq. ft. house:  107954.30494246344\n"
          ]
        }
      ]
    },
    {
      "cell_type": "code",
      "source": [
        "import numpy as np\n",
        "from sklearn.linear_model import LinearRegression\n",
        "\n",
        "# Generate the data\n",
        "np.random.seed(0)\n",
        "X = np.random.rand(100, 1) * 1000  # house area\n",
        "y = 100 * X + np.random.randn(100, 1) * 50000  # house price\n",
        "\n",
        "# Create a linear regression model\n",
        "model = LinearRegression()\n",
        "\n",
        "# Fit the model to the data\n",
        "model.fit(X, y)\n",
        "\n",
        "# Get the regression coefficients\n",
        "coefficients = model.coef_\n",
        "\n",
        "# Print the coefficients of the model\n",
        "print('Regression coefficients:', coefficients)\n"
      ],
      "metadata": {
        "colab": {
          "base_uri": "https://localhost:8080/"
        },
        "id": "bQXvsB2Z4gWv",
        "outputId": "3435081f-dc51-4cc6-bc93-bc1171abb5ae"
      },
      "execution_count": null,
      "outputs": [
        {
          "output_type": "stream",
          "name": "stdout",
          "text": [
            "Regression coefficients: [[96.84675107]]\n"
          ]
        }
      ]
    },
    {
      "cell_type": "code",
      "source": [
        "import numpy as np\n",
        "from sklearn.linear_model import LinearRegression\n",
        "\n",
        "# Generate the data\n",
        "np.random.seed(0)\n",
        "X = np.random.rand(100, 1) * 1000  # house area\n",
        "y = 100 * X + np.random.randn(100, 1) * 50000  # house price\n",
        "\n",
        "# Create a linear regression model\n",
        "model = LinearRegression()\n",
        "\n",
        "# Fit the model to the data\n",
        "model.fit(X, y)\n",
        "\n",
        "# Get the regression coefficients\n",
        "coefficients = np.append(model.intercept_, model.coef_)\n",
        "\n",
        "# Print the coefficients of the model\n",
        "print('Regression coefficients:', coefficients)\n"
      ],
      "metadata": {
        "colab": {
          "base_uri": "https://localhost:8080/"
        },
        "id": "dBQoou3X4t-7",
        "outputId": "2fe7f786-e055-4d0f-969a-beb57320cc26"
      },
      "execution_count": null,
      "outputs": [
        {
          "output_type": "stream",
          "name": "stdout",
          "text": [
            "Regression coefficients: [11107.55387236    96.84675107]\n"
          ]
        }
      ]
    },
    {
      "cell_type": "code",
      "source": [
        "import pandas as pd\n",
        "from sklearn.linear_model import LinearRegression\n",
        "\n",
        "# Read in the data from the CSV file\n",
        "data = pd.read_csv('/content/housing_price_correlated_clean.csv')\n",
        "\n",
        "# Split the data into X (explanatory variables) and y (dependent variable)\n",
        "y = data.iloc[:, 0].values\n",
        "X = data.iloc[:, 1:].values\n",
        "\n",
        "# Create a linear regression model\n",
        "model = LinearRegression()\n",
        "\n",
        "# Fit the model to the data\n",
        "model.fit(X, y)\n",
        "\n",
        "# Print the coefficients of the model\n",
        "print('Coefficients: ', model.coef_)\n",
        "\n",
        "# Print the intercept of the model\n",
        "print('Intercept: ', model.intercept_)\n"
      ],
      "metadata": {
        "colab": {
          "base_uri": "https://localhost:8080/"
        },
        "id": "BnyzEtUR4-nL",
        "outputId": "e9ad1793-d0c1-48ba-f818-dc7983dd9ca4"
      },
      "execution_count": null,
      "outputs": [
        {
          "output_type": "stream",
          "name": "stdout",
          "text": [
            "Coefficients:  [ 100. 1000.]\n",
            "Intercept:  2000.0\n"
          ]
        }
      ]
    },
    {
      "cell_type": "code",
      "source": [
        "import pandas as pd\n",
        "from sklearn.linear_model import LinearRegression\n",
        "\n",
        "# Read in the data from the CSV file\n",
        "data = pd.read_csv('/content/housing_price_uncorrelated_clean.csv')\n",
        "\n",
        "# Split the data into X (explanatory variables) and y (dependent variable)\n",
        "y = data.iloc[:, 0].values\n",
        "X = data.iloc[:, 1:].values\n",
        "\n",
        "# Create a linear regression model\n",
        "model = LinearRegression()\n",
        "\n",
        "# Fit the model to the data\n",
        "model.fit(X, y)\n",
        "\n",
        "# Print the coefficients of the model\n",
        "print('Coefficients: ', model.coef_)\n",
        "\n",
        "# Print the intercept of the model\n",
        "print('Intercept: ', model.intercept_)\n"
      ],
      "metadata": {
        "colab": {
          "base_uri": "https://localhost:8080/"
        },
        "id": "1qzs3Tr67dCR",
        "outputId": "08aed61f-6d86-4bde-eae4-3bf971324497"
      },
      "execution_count": null,
      "outputs": [
        {
          "output_type": "stream",
          "name": "stdout",
          "text": [
            "Coefficients:  [ 100. 1000.]\n",
            "Intercept:  1999.9999999999982\n"
          ]
        }
      ]
    },
    {
      "cell_type": "code",
      "source": [
        "import pandas as pd\n",
        "from sklearn.linear_model import LinearRegression\n",
        "\n",
        "# Read in the data from the CSV file\n",
        "data = pd.read_csv('/content/housing_price_correlated_clean.csv')\n",
        "\n",
        "# Split the data into X (explanatory variable) and y (dependent variable)\n",
        "y = data.iloc[:, 0].values\n",
        "X = data.iloc[:, 1:2].values\n",
        "\n",
        "# Create a linear regression model\n",
        "model = LinearRegression()\n",
        "\n",
        "# Fit the model to the data\n",
        "model.fit(X, y)\n",
        "\n",
        "# Print the coefficients of the model\n",
        "print('Coefficient: ', model.coef_[0])\n",
        "\n",
        "# Print the intercept of the model\n",
        "print('Intercept: ', model.intercept_)\n"
      ],
      "metadata": {
        "colab": {
          "base_uri": "https://localhost:8080/"
        },
        "id": "gw--BPRy_ypU",
        "outputId": "8938963a-8f79-4bbf-8cc0-cac4e6381ebd"
      },
      "execution_count": null,
      "outputs": [
        {
          "output_type": "stream",
          "name": "stdout",
          "text": [
            "Coefficient:  124.99999999999999\n",
            "Intercept:  1.8189894035458565e-12\n"
          ]
        }
      ]
    },
    {
      "cell_type": "code",
      "source": [
        "import pandas as pd\n",
        "from sklearn.linear_model import LinearRegression\n",
        "\n",
        "# Read in the data from the CSV file\n",
        "data = pd.read_csv('/content/housing_price_uncorrelated_clean.csv')\n",
        "\n",
        "# Split the data into X (explanatory variable) and y (dependent variable)\n",
        "y = data.iloc[:, 0].values\n",
        "X = data.iloc[:, 1:2].values\n",
        "\n",
        "# Create a linear regression model\n",
        "model = LinearRegression()\n",
        "\n",
        "# Fit the model to the data\n",
        "model.fit(X, y)\n",
        "\n",
        "# Print the coefficients of the model\n",
        "print('Coefficient: ', model.coef_[0])\n",
        "\n",
        "# Print the intercept of the model\n",
        "print('Intercept: ', model.intercept_)\n"
      ],
      "metadata": {
        "colab": {
          "base_uri": "https://localhost:8080/"
        },
        "id": "eSH3cCfTCQwG",
        "outputId": "27f7d39e-bd21-4c04-dfc8-2cd4c19723d1"
      },
      "execution_count": null,
      "outputs": [
        {
          "output_type": "stream",
          "name": "stdout",
          "text": [
            "Coefficient:  100.00000000000001\n",
            "Intercept:  2499.999999999998\n"
          ]
        }
      ]
    },
    {
      "cell_type": "code",
      "source": [],
      "metadata": {
        "id": "I-MNz-FNCXnz"
      },
      "execution_count": null,
      "outputs": []
    }
  ]
}